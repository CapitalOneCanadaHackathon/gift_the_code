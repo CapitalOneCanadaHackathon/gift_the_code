{
 "cells": [
  {
   "cell_type": "code",
   "execution_count": 186,
   "metadata": {},
   "outputs": [],
   "source": [
    "import pandas as pd\n",
    "import matplotlib.pyplot as plt\n",
    "\n",
    "from gensim.models.ldamodel import LdaModel\n",
    "from gensim import corpora\n",
    "from nltk.corpus import stopwords\n",
    "\n",
    "from wordcloud import WordCloud, STOPWORDS"
   ]
  },
  {
   "cell_type": "code",
   "execution_count": 84,
   "metadata": {},
   "outputs": [],
   "source": [
    "from collections import Counter\n",
    "import nltk\n",
    "import re as regex\n",
    "import numpy as np\n",
    "from sklearn.metrics import f1_score, precision_score, recall_score, accuracy_score\n",
    "from sklearn.model_selection import train_test_split, cross_val_score, GridSearchCV, RandomizedSearchCV\n",
    "from time import time\n",
    "import gensim"
   ]
  },
  {
   "cell_type": "code",
   "execution_count": 189,
   "metadata": {
    "collapsed": true
   },
   "outputs": [],
   "source": [
    "tweets = pd.read_json('../data/the519_tweets.json')\n",
    "tweets['YYYYMM'] = tweets['timestamp'].map(lambda x: str(x.year) + '-' + str(x.month))"
   ]
  },
  {
   "cell_type": "code",
   "execution_count": 190,
   "metadata": {},
   "outputs": [
    {
     "data": {
      "text/plain": [
       "fullname             object\n",
       "id                    int64\n",
       "likes                 int64\n",
       "replies               int64\n",
       "retweets              int64\n",
       "text                 object\n",
       "timestamp    datetime64[ns]\n",
       "user                 object\n",
       "YYYYMM               object\n",
       "dtype: object"
      ]
     },
     "execution_count": 190,
     "metadata": {},
     "output_type": "execute_result"
    }
   ],
   "source": [
    "tweets.dtypes"
   ]
  },
  {
   "cell_type": "code",
   "execution_count": 191,
   "metadata": {},
   "outputs": [],
   "source": [
    "tweet_date_counts = tweets.groupby(['YYYYMM']).size()"
   ]
  },
  {
   "cell_type": "code",
   "execution_count": 193,
   "metadata": {},
   "outputs": [],
   "source": [
    "tweet_date_counts_2017 = tweet_date_counts[tweet_date_counts.index > '2017-00']"
   ]
  },
  {
   "cell_type": "code",
   "execution_count": 194,
   "metadata": {},
   "outputs": [
    {
     "data": {
      "image/png": "[encoded data removed]",
      "text/plain": [
       "<matplotlib.figure.Figure at 0x1141000f0>"
      ]
     },
     "metadata": {},
     "output_type": "display_data"
    }
   ],
   "source": [
    "plt.plot(tweet_date_counts.index, tweet_date_counts.values)\n",
    "plt.show()"
   ]
  },
  {
   "cell_type": "code",
   "execution_count": 96,
   "metadata": {
    "collapsed": true
   },
   "outputs": [],
   "source": [
    "class TwitterData_Initialize():\n",
    "    data = []\n",
    "    processed_data = []\n",
    "    wordlist = []\n",
    "\n",
    "    data_model = None\n",
    "    data_labels = None\n",
    "    is_testing = False\n",
    "    \n",
    "    def initialize(self, json_file, is_testing_set=False, from_cached=None):\n",
    "        if from_cached is not None:\n",
    "            self.data_model = pd.read_json(from_cached)\n",
    "            return\n",
    "\n",
    "        self.is_testing = is_testing_set\n",
    "\n",
    "        self.data = pd.read_json(json_file)\n",
    "        self.processed_data = self.data\n",
    "        self.wordlist = []\n",
    "        self.data_model = None\n",
    "        self.data_labels = None"
   ]
  },
  {
   "cell_type": "code",
   "execution_count": 88,
   "metadata": {
    "collapsed": true
   },
   "outputs": [],
   "source": [
    "class TwitterCleanuper:\n",
    "    def iterate(self):\n",
    "        for cleanup_method in [self.remove_urls,\n",
    "                               self.remove_usernames,\n",
    "                               self.remove_na,\n",
    "                               self.remove_special_chars,\n",
    "                               self.remove_numbers]:\n",
    "            yield cleanup_method\n",
    "\n",
    "    @staticmethod\n",
    "    def remove_by_regex(tweets, regexp):\n",
    "        tweets.loc[:, \"text\"].replace(regexp, \"\", inplace=True)\n",
    "        return tweets\n",
    "\n",
    "    def remove_urls(self, tweets):\n",
    "        return TwitterCleanuper.remove_by_regex(tweets, regex.compile(r\"http.?://[^\\s]+[\\s]?\"))\n",
    "\n",
    "    def remove_na(self, tweets):\n",
    "        return tweets[tweets[\"text\"] != \"Not Available\"]\n",
    "\n",
    "    def remove_special_chars(self, tweets):  # it unrolls the hashtags to normal words\n",
    "        for remove in map(lambda r: regex.compile(regex.escape(r)), [\",\", \":\", \"\\\"\", \"=\", \"&\", \";\", \"%\", \"$\",\n",
    "                                                                     \"@\", \"%\", \"^\", \"*\", \"(\", \")\", \"{\", \"}\",\n",
    "                                                                     \"[\", \"]\", \"|\", \"/\", \"\\\\\", \">\", \"<\", \"-\",\n",
    "                                                                     \"!\", \"?\", \".\", \"'\",\n",
    "                                                                     \"--\", \"---\", \"#\"]):\n",
    "            tweets.loc[:, \"text\"].replace(remove, \"\", inplace=True)\n",
    "        return tweets\n",
    "\n",
    "    def remove_usernames(self, tweets):\n",
    "        return TwitterCleanuper.remove_by_regex(tweets, regex.compile(r\"@[^\\s]+[\\s]?\"))\n",
    "\n",
    "    def remove_numbers(self, tweets):\n",
    "        return TwitterCleanuper.remove_by_regex(tweets, regex.compile(r\"\\s?[0-9]+\\.?[0-9]*\"))"
   ]
  },
  {
   "cell_type": "code",
   "execution_count": 89,
   "metadata": {},
   "outputs": [],
   "source": [
    "class TwitterData_Cleansing(TwitterData_Initialize):\n",
    "    def __init__(self, previous):\n",
    "        self.processed_data = previous.processed_data\n",
    "        \n",
    "    def cleanup(self, cleanuper):\n",
    "        t = self.processed_data\n",
    "        for cleanup_method in cleanuper.iterate():\n",
    "            if not self.is_testing:\n",
    "                t = cleanup_method(t)\n",
    "            else:\n",
    "                if cleanup_method.__name__ != \"remove_na\":\n",
    "                    t = cleanup_method(t)\n",
    "\n",
    "        self.processed_data = t"
   ]
  },
  {
   "cell_type": "code",
   "execution_count": 161,
   "metadata": {},
   "outputs": [],
   "source": [
    "data = TwitterData_Initialize()\n",
    "data.initialize('../data/the519_tweets.json')\n",
    "data = TwitterData_Cleansing(data)\n",
    "data.cleanup(TwitterCleanuper())"
   ]
  },
  {
   "cell_type": "code",
   "execution_count": 164,
   "metadata": {
    "collapsed": true
   },
   "outputs": [],
   "source": [
    "class TwitterData_TokenStem(TwitterData_Cleansing):\n",
    "    def __init__(self, previous):\n",
    "        self.processed_data = previous.processed_data\n",
    "        \n",
    "    def stem(self, stemmer=nltk.PorterStemmer()):\n",
    "        def stem_and_join(row):\n",
    "            row[\"text\"] = list(map(lambda str: stemmer.stem(str.lower()), row[\"text\"]))\n",
    "            return row\n",
    "\n",
    "        self.processed_data = self.processed_data.apply(stem_and_join, axis=1)\n",
    "\n",
    "    def tokenize(self, tokenizer=nltk.word_tokenize):\n",
    "        def tokenize_row(row):\n",
    "            row[\"text\"] = tokenizer(row[\"text\"].lower())\n",
    "            row[\"tokenized_text\"] = [] + row[\"text\"]\n",
    "            return row\n",
    "\n",
    "        self.processed_data = self.processed_data.apply(tokenize_row, axis=1)"
   ]
  },
  {
   "cell_type": "code",
   "execution_count": 165,
   "metadata": {},
   "outputs": [],
   "source": [
    "data = TwitterData_TokenStem(data)\n",
    "data.tokenize()\n",
    "data.stem()"
   ]
  },
  {
   "cell_type": "code",
   "execution_count": 171,
   "metadata": {},
   "outputs": [
    {
     "data": {
      "text/plain": [
       "0        [excited, for, our, new, online, presence, vis...\n",
       "1        [were, looking, for, new, members, for, our, b...\n",
       "2        [rt, were, looking, for, new, members, for, ou...\n",
       "3        [rt, rt, were, looking, for, new, members, for...\n",
       "4        [rt, were, looking, for, new, members, for, ou...\n",
       "5                                   [thanks, for, the, rt]\n",
       "6                                  [happy, charitytuesday]\n",
       "7        [our, communities, meet, check, out, our, webs...\n",
       "8        [toronto, tweeps, aka, the, fab, church, st, c...\n",
       "9        [rt, toronto, tweeps, aka, the, fab, church, s...\n",
       "10       [thanks, for, the, shoutout, were, excited, to...\n",
       "11       [um, no, need, parroti, agreeim, just, not, in...\n",
       "12       [rt, toronto, tweeps, aka, the, fab, church, s...\n",
       "13       [rt, rt, toronto, tweeps, aka, the, fab, churc...\n",
       "14       [rt, so, who, is, going, to, join, pride, toro...\n",
       "15          [prideto, welcomes, our, friends, to, twitter]\n",
       "16       [rain, is, rhythmically, pouring, down, on, th...\n",
       "17                [thanks, mark, were, glad, to, be, here]\n",
       "18       [rt, prideto, welcomes, our, friends, to, twit...\n",
       "19       [its, cake, day, happy, birthday, to, all, our...\n",
       "20       [great, to, see, you, tweeting, lookingward, t...\n",
       "21       [rt, thursday, morning, remember, to, pick, up...\n",
       "22                                  [thanks, for, the, rt]\n",
       "23       [the, centre, smells, like, sunscreen, must, b...\n",
       "24       [welcome, to, twitter, from, the, aids, commit...\n",
       "25       [rt, rt, would, like, to, get, examples, of, t...\n",
       "26             [freaking, amazing, we, were, soooo, close]\n",
       "27                                  [thanks, for, the, rt]\n",
       "28       [were, open, regular, hours, this, weekend, an...\n",
       "29       [rt, thanks, im, going, to, now, and, setting,...\n",
       "                               ...                        \n",
       "14446    [“, it, was, a, new, experience, for, me, to, ...\n",
       "14447    [were, looking, for, a, lead, cook, at, last, ...\n",
       "14448    [were, looking, for, a, communications, specia...\n",
       "14449                                                   []\n",
       "14450                   [incredible, and, powerful, voice]\n",
       "14451                                                   []\n",
       "14452    [big, thanks, to, for, donating, these, sweet,...\n",
       "14453         [and, thank, you, for, designing, the, logo]\n",
       "14454    [diversityatwork, check, out, these, little, t...\n",
       "14455    [on, this, chilly, halloween, on, church, our,...\n",
       "14456                   [this, looks, so, warm, and, cozy]\n",
       "14457    [happy, halloween, check, out, for, hot, cider...\n",
       "14458    [were, excited, about, our, treatment, access,...\n",
       "14459    [our, thanks, to, everyone, who, stopped, by, ...\n",
       "14460    [hosts, treatment, access, dialogue, and, agm,...\n",
       "14461    [tonight, is, the, night, all, proceeds, to, t...\n",
       "14462    [“, a, tattoocovered, trans, woman, ”, what, r...\n",
       "14463    [just, in, case, you, quickly, edit, this, is,...\n",
       "14464    [come, one, come, all, to, our, bodyloveball, ...\n",
       "14465    [covers, some, amazing, halloween, costumes, s...\n",
       "14466    [attn, toronto, artists, are, looking, for, ar...\n",
       "14467    [thanks, to, everyone, who, came, to, our, tre...\n",
       "14468    [were, missing, summer, time, too, when, we, w...\n",
       "14469    [is, that, we, see, a, little, human, of, the,...\n",
       "14470    [creative, flare, …, see, you, at, our, free, ...\n",
       "14471    [has, raised, million, over, years, through, t...\n",
       "14472    [tonight, on, thezoomer, millennials, vs, zoom...\n",
       "14473    [here, we, go, giftthecode, w, charity, partne...\n",
       "14474    [tonight, millennials, vs, zoomers, is, the, g...\n",
       "14475    [day, donethe, is, honoured, and, excited, to,...\n",
       "Name: tokenized_text, Length: 14476, dtype: object"
      ]
     },
     "execution_count": 171,
     "metadata": {},
     "output_type": "execute_result"
    }
   ],
   "source": [
    "data.processed_data['tokenized_text']"
   ]
  },
  {
   "cell_type": "code",
   "execution_count": 183,
   "metadata": {},
   "outputs": [],
   "source": [
    "documents = [[word for word in document if word not in stopwords.words('english')] for document in data.processed_data['text']]\n",
    "dictionary = corpora.Dictionary(documents)\n",
    "corpus = [dictionary.doc2bow(text) for text in documents]"
   ]
  },
  {
   "cell_type": "code",
   "execution_count": 184,
   "metadata": {},
   "outputs": [],
   "source": [
    "lda = LdaModel(corpus=corpus, id2word=dictionary, num_topics=25)"
   ]
  },
  {
   "cell_type": "code",
   "execution_count": 185,
   "metadata": {},
   "outputs": [
    {
     "data": {
      "text/plain": [
       "[(24,\n",
       "  '0.053*\"lgbtq\" + 0.050*\"volunt\" + 0.039*\"creat\" + 0.030*\"share\" + 0.026*\"fair\" + 0.025*\"inclus\" + 0.018*\"aid\" + 0.017*\"particip\" + 0.017*\"commun\" + 0.015*\"vigil\"'),\n",
       " (13,\n",
       "  '0.052*\"job\" + 0.034*\"cook\" + 0.031*\"bodi\" + 0.029*\"still\" + 0.025*\"regist\" + 0.022*\"like\" + 0.018*\"youth\" + 0.014*\"care\" + 0.013*\"support\" + 0.011*\"chariti\"'),\n",
       " (4,\n",
       "  '0.026*\"mon\" + 0.022*\"st\" + 0.018*\"dropin\" + 0.017*\"church\" + 0.017*\"mtg\" + 0.013*\"food\" + 0.013*\"recreat\" + 0.012*\"local\" + 0.012*\"pink\" + 0.012*\"view\"'),\n",
       " (23,\n",
       "  '0.039*\"’\" + 0.038*\"gala\" + 0.029*\"go\" + 0.021*\"act\" + 0.020*\"thi\" + 0.018*\"support\" + 0.016*\"sat\" + 0.013*\"advocaci\" + 0.013*\"friend\" + 0.013*\"perform\"'),\n",
       " (21,\n",
       "  '0.067*\"commun\" + 0.037*\"toronto\" + 0.035*\"centr\" + 0.030*\"lgbtq\" + 0.029*\"street\" + 0.028*\"folk\" + 0.027*\"church\" + 0.019*\"thur\" + 0.018*\"meet\" + 0.015*\"discuss\"'),\n",
       " (22,\n",
       "  '0.041*\"…\" + 0.028*\"everi\" + 0.023*\"ta\" + 0.021*\"free\" + 0.020*\"monday\" + 0.015*\"octob\" + 0.012*\"rd\" + 0.012*\"season\" + 0.011*\"sex\" + 0.011*\"held\"'),\n",
       " (18,\n",
       "  '0.070*\"learn\" + 0.033*\"danc\" + 0.024*\"educ\" + 0.019*\"women\" + 0.019*\"class\" + 0.016*\"screen\" + 0.013*\"check\" + 0.011*\"de\" + 0.010*\"seri\" + 0.010*\"onli\"'),\n",
       " (15,\n",
       "  '0.053*\"lgbtq\" + 0.038*\"program\" + 0.038*\"youth\" + 0.031*\"join\" + 0.028*\"us\" + 0.019*\"homeless\" + 0.013*\"honour\" + 0.013*\"special\" + 0.012*\"friend\" + 0.012*\"workshop\"'),\n",
       " (11,\n",
       "  '0.026*\"time\" + 0.022*\"much\" + 0.020*\"space\" + 0.016*\"kick\" + 0.016*\"thank\" + 0.016*\"ident\" + 0.015*\"affirm\" + 0.013*\"right\" + 0.013*\"artist\" + 0.012*\"thi\"'),\n",
       " (0,\n",
       "  '0.061*\"love\" + 0.036*\"thi\" + 0.021*\"town\" + 0.019*\"hall\" + 0.015*\"summer\" + 0.015*\"parti\" + 0.013*\"park\" + 0.013*\"intergener\" + 0.013*\"becaus\" + 0.012*\"sexual\"'),\n",
       " (14,\n",
       "  '0.040*\"oct\" + 0.027*\"human\" + 0.026*\"right\" + 0.025*\"lgbtq\" + 0.023*\"appli\" + 0.020*\"list\" + 0.016*\"day\" + 0.015*\"hear\" + 0.014*\"sign\" + 0.014*\"nobystand\"'),\n",
       " (6,\n",
       "  '0.027*\"meet\" + 0.025*\"annual\" + 0.024*\"talk\" + 0.020*\"dec\" + 0.018*\"tonight\" + 0.017*\"atpm\" + 0.016*\"lgbtq\" + 0.016*\"join\" + 0.016*\"gener\" + 0.015*\"us\"'),\n",
       " (17,\n",
       "  '0.074*\"thank\" + 0.046*\"space\" + 0.035*\"sport\" + 0.029*\"thi\" + 0.027*\"–\" + 0.025*\"amaz\" + 0.019*\"donat\" + 0.017*\"weekend\" + 0.014*\"green\" + 0.013*\"great\"'),\n",
       " (9,\n",
       "  '0.050*\"night\" + 0.025*\"park\" + 0.024*\"hall\" + 0.024*\"get\" + 0.022*\"barbara\" + 0.020*\"ticket\" + 0.019*\"toronto\" + 0.017*\"anoth\" + 0.016*\"host\" + 0.014*\"pride\"'),\n",
       " (5,\n",
       "  '0.031*\"famili\" + 0.027*\"us\" + 0.025*\"know\" + 0.020*\"repost\" + 0.019*\"・・・\" + 0.019*\"join\" + 0.015*\"start\" + 0.015*\"want\" + 0.015*\"step\" + 0.014*\"plan\"'),\n",
       " (2,\n",
       "  '0.031*\"launch\" + 0.022*\"discuss\" + 0.020*\"miss\" + 0.013*\"panel\" + 0.013*\"day\" + 0.012*\"lead\" + 0.012*\"queen\" + 0.012*\"activ\" + 0.012*\"w\" + 0.012*\"make\"'),\n",
       " (10,\n",
       "  '0.026*\"partnership\" + 0.025*\"pride\" + 0.024*\"welcom\" + 0.020*\"environ\" + 0.020*\"flag\" + 0.018*\"tran\" + 0.016*\"train\" + 0.013*\"provid\" + 0.013*\"workplac\" + 0.012*\"staff\"'),\n",
       " (1,\n",
       "  '0.055*\"support\" + 0.025*\"resourc\" + 0.023*\"us\" + 0.021*\"saturday\" + 0.020*\"join\" + 0.018*\"thx\" + 0.018*\"thank\" + 0.018*\"halloween\" + 0.018*\"visit\" + 0.014*\"celebr\"'),\n",
       " (19,\n",
       "  '0.034*\"come\" + 0.027*\"refuge\" + 0.022*\"thi\" + 0.020*\"sunday\" + 0.019*\"proud\" + 0.018*\"check\" + 0.017*\"cc\" + 0.015*\"month\" + 0.014*\"ill\" + 0.013*\"awesom\"'),\n",
       " (7,\n",
       "  '0.030*\"…\" + 0.029*\"day\" + 0.026*\"tran\" + 0.025*\"free\" + 0.020*\"hire\" + 0.017*\"engag\" + 0.013*\"world\" + 0.012*\"everi\" + 0.012*\"inform\" + 0.012*\"convers\"')]"
      ]
     },
     "execution_count": 185,
     "metadata": {},
     "output_type": "execute_result"
    }
   ],
   "source": [
    "lda.print_topics()"
   ]
  },
  {
   "cell_type": "code",
   "execution_count": 188,
   "metadata": {},
   "outputs": [
    {
     "data": {
      "text/plain": [
       "0        Excited for our new online presence.  Visit ou...\n",
       "1        We're looking for new members for our Board of...\n",
       "2        RT @The519 We're looking for new members for o...\n",
       "3        RT @matthewcutler: RT @The519 We're looking fo...\n",
       "4        RT @The519 We're looking for new members for o...\n",
       "5        @PrideToronto @UnionSt @MatthewCutler  -  Than...\n",
       "6                                   Happy #CharityTuesday!\n",
       "7        Our communities meet @The519  - Check out our ...\n",
       "8        Toronto Tweeps - @The519 (aka the fab 519 Chur...\n",
       "9        RT @Toronto_PR_Guy: Toronto Tweeps - @The519 (...\n",
       "10       @Toronto_PR_Guy Thanks for the shout-out! We'r...\n",
       "11       @The519 um, no need 2 parrot.I agree-I'm just ...\n",
       "12       RT @Toronto_PR_Guy: Toronto Tweeps - @The519 (...\n",
       "13       RT @UnionSt: RT @Toronto_PR_Guy: Toronto Tweep...\n",
       "14       RT @pride_ed: So who is going to join Pride To...\n",
       "15       #PrideTO welcomes our friends @The519 to Twitter!\n",
       "16       Rain is rhythmically pouring down on the skyli...\n",
       "17       @marksinghTO   Thanks Mark! We're glad to be h...\n",
       "18       RT @marksinghTO: #PrideTO welcomes our friends...\n",
       "19       It's Cake Day @The519!  Happy Birthday to all ...\n",
       "20       @The519 Great to see you Tweeting! Looking 4wa...\n",
       "21       RT @TORROLLERDERBY: Thursday morning remember ...\n",
       "22                              @The519 Thanks for the RT.\n",
       "23       The Centre smells like sunscreen - must be a f...\n",
       "24       @The519 welcome to Twitter from the AIDS Commi...\n",
       "25       RT @canadahelps: RT @laurie_pringle Would like...\n",
       "26       @RavenSue  Freaking amazing!!! We were soooo c...\n",
       "27                              @The519 Thanks for the RT!\n",
       "28       We're open regular hours this weekend, and clo...\n",
       "29       RT @Pica_A: @PrideToronto Thanks, I'm going to...\n",
       "                               ...                        \n",
       "14446    “It was a new experience for me to participate...\n",
       "14447    We're looking for a Lead Cook at @FABARNAKrest...\n",
       "14448    We're looking for a #communications specialist...\n",
       "14449    @chha1610am @RyePRIDE @CRUISElab @The519 @shct...\n",
       "14450                       Incredible and powerful voice!\n",
       "14451    @CRUISElab @TorontoComms @shctoronto @RyeRye @...\n",
       "14452    Big thanks to @TShirtGuysTO for donating these...\n",
       "14453    and @emilydorothy, thank YOU for designing the...\n",
       "14454    #DiversityAtWork Check out these little tips f...\n",
       "14455    On this chilly Halloween on Church  our fantas...\n",
       "14456                         This looks so warm and cozy!\n",
       "14457    Happy Halloween! Check out @The519 for hot cid...\n",
       "14458    We're excited about our Treatment Access Dialo...\n",
       "14459    Our thanks to everyone who stopped by last nig...\n",
       "14460    .@CTAC_CAN hosts Treatment Access Dialogue and...\n",
       "14461    Tonight is the night! All proceeds to the @The...\n",
       "14462    “A tattoo-covered trans woman...?” What releva...\n",
       "14463    Just in case you quickly edit. This is shamefu...\n",
       "14464    Come one come all to our #BodyLoveBall! Decemb...\n",
       "14465    @blogTO covers some amazing halloween costumes...\n",
       "14466    ATTN: #Toronto #Artists\\n@NuitRoseTO are looki...\n",
       "14467    Thanks to everyone who came to our Treatment A...\n",
       "14468    We're missing summer time too when we went to ...\n",
       "14469    Is that @ladybearextraordinaire we see?\\nA lit...\n",
       "14470    Creative flare! - http://mailchi.mp/d301ef4a76...\n",
       "14471    .@The519 has raised $2.5 million over 10 years...\n",
       "14472    Tonight on #theZoomer, #Millennials vs #Zoomer...\n",
       "14473    Here we go! #giftthecode 2017 w charity partne...\n",
       "14474    Tonight #Millennials vs #Zoomers. Is the #Gene...\n",
       "14475    @giftthecode day 1: DONE!The 519 is honoured a...\n",
       "Name: text, Length: 14476, dtype: object"
      ]
     },
     "execution_count": 188,
     "metadata": {},
     "output_type": "execute_result"
    }
   ],
   "source": [
    "tweets['text']"
   ]
  }
 ],
 "metadata": {
  "kernelspec": {
   "display_name": "Python 3",
   "language": "python",
   "name": "python3"
  },
  "language_info": {
   "codemirror_mode": {
    "name": "ipython",
    "version": 3
   },
   "file_extension": ".py",
   "mimetype": "text/x-python",
   "name": "python",
   "nbconvert_exporter": "python",
   "pygments_lexer": "ipython3",
   "version": "3.6.3"
  }
 },
 "nbformat": 4,
 "nbformat_minor": 2
}
